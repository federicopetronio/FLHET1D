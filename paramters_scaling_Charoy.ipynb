{
 "cells": [
  {
   "cell_type": "markdown",
   "metadata": {},
   "source": [
    "# $\\vec{B}$ amplitude scaling, How to modify $(\\alpha_{B1}, \\alpha_{B2})$ to achieve the same mobility $\\mu$\n",
    "\n",
    "Let's say for a given amplitude $B$ a convenient couple $(\\alpha_{B1}, \\alpha_{B2})$ achieves good stationary state.\n",
    "If we scale $B$ with a factor $a \\in \\mathbb{R}, a > 0$, what is the $\\alpha_B$ scaling factor $b \\in \\mathbb{R}, b > 0$ such that $\\mu ' = \\mu$ ?\n",
    "\n",
    "In other words:\n",
    "* Let $a \\in \\mathbb{R}, a > 0$. $B' \\equiv a B$.\n",
    "* What is $b \\in \\mathbb{R}, b > 0$ used in $\\alpha_B ' = b \\alpha_B$ such that $\\mu ' = \\mu$ ?\n",
    "\n",
    "We recall that:\n",
    "$$\n",
    "\\mu \\equiv \\frac{e}{m_e \\nu_m}\\frac{1}{1 + \\frac{\\omega_{ce}^2}{\\nu_m^2}} \n",
    "$$\n",
    "With $\\nu_m = \\alpha_B \\omega_{ce}$. Indeed, we consider $K_{el} = \\nu_{ew} = 0$ here.\n",
    "\n",
    "So:\n",
    "$$ \\mu ' = \\mu  \\Leftrightarrow \\frac{e}{m_e a b \\alpha_B \\omega_{ce}}\\frac{1}{1 + \\frac{a^2 \\omega_{ce}^2}{a^2 b^2 \\alpha_B^2 \\omega_{ce}^2}} = \\frac{e}{m_e \\alpha_B \\omega_{ce}}\\frac{1}{1 + \\frac{\\omega_{ce}^2}{\\alpha_B^2 \\omega_{ce}^2}} $$\n",
    "$$\\Leftrightarrow ab(1 + \\frac{1}{b^2 \\alpha_B^2}) = 1 + \\frac{1}{\\alpha_B^2}$$\n",
    "$$\\Leftrightarrow a \\alpha_B^2 b^2 - (\\alpha_B^2 + 1)b + a = 0$$\n",
    "\n",
    "Which is a polynomial in $b$ of second order. So the similar scaling admits a real solution iff:\n",
    "$$\\Delta \\equiv (\\alpha_B^2 + 1)^2 - 4 a^2 \\alpha_B^2 \\geq 0$$\n",
    "$$\\Leftrightarrow \\alpha_B^2 + 1 - 2 a \\alpha_B \\geq 0$$\n",
    "$$\\Leftrightarrow a \\leq \\frac{\\alpha_B^2 + 1}{2 \\alpha_B}$$\n",
    "\n",
    "But in facts, I always choose anomalous coefficients in this range $ 0 < \\alpha_B < 0.1 $ so that $5 < \\frac{\\alpha_B^2 + 1}{2 \\alpha_B}$. So if $a \\leq 5$(and with this usual $\\alpha_B$ range) there is a real solution $b$ achieving a similar scaling, equivalent of being the solution of:\n",
    "$$ a \\alpha_B^2 b^2 - (\\alpha_B^2 + 1)b + a = 0 $$\n",
    "$$\\Leftrightarrow b_{\\pm} = \\frac{\\alpha_B^2 + 1 \\pm \\sqrt{(\\alpha_B^2 + 1)^2 - 4 a^2 \\alpha_B^2}}{2 a \\alpha_B^2}$$\n",
    "\n",
    "Both solutions $b_{\\pm} > 0$ and thus are admittable."
   ]
  },
  {
   "cell_type": "markdown",
   "metadata": {},
   "source": [
    "Now the question is for typical values and coming from a nominal couple $(\\alpha_{B1}, \\alpha_{B2})$.\n",
    "Nominal case $B_{max} = 100$ G and the chosen couple is $(1.0826\\times 10^{-2}, 2.0325\\times 10^{-2})$.\n",
    "\n",
    "We want to modify the $B$ array from $B_{max} = 100$ G maximum to $B_{max} = 50$ G so a scaling of $a = 0.5$.\n",
    "According to the previous formulae:\n",
    "$$b_{1 +} = \\frac{\\alpha_{B1}^2 + 1 + \\sqrt{(\\alpha_{B1}^2 + 1)^2 - 4 a^2 \\alpha_{B1}^2}}{2 a \\alpha_{B1}^2} = 1.706602\\times 10^4$$\n",
    "$$b_{1 -} = \\frac{\\alpha_{B1}^2 + 1 + \\sqrt{(\\alpha_{B1}^2 + 1)^2 - 4 a^2 \\alpha_{B1}^2}}{2 a \\alpha_{B1}^2} = 4.999561\\times 10^{-1}$$\n",
    "$$b_{2 +} = \\frac{\\alpha_{B2}^2 + 1 + \\sqrt{(\\alpha_{B2}^2 + 1)^2 - 4 a^2 \\alpha_{B2}^2}}{2 a \\alpha_{B2}^2} = 4.842877\\times 10^3$$\n",
    "$$b_{2 -} = \\frac{\\alpha_{B2}^2 + 1 + \\sqrt{(\\alpha_{B2}^2 + 1)^2 - 4 a^2 \\alpha_{B2}^2}}{2 a \\alpha_{B2}^2} = 4.998451\\times 10^{-1}$$"
   ]
  },
  {
   "cell_type": "markdown",
   "metadata": {},
   "source": [
    "So that:\n",
    "$$b_{1 +} \\alpha_{B1} = 1.8476\\times 10^2 $$\n",
    "$$b_{1 -} \\alpha_{B1} = 5.4125\\times 10^{-3} $$\n",
    "$$b_{2 +} \\alpha_{B2} = 9.8431\\times 10^{1} $$\n",
    "$$b_{2 -} \\alpha_{B2} = 1.0159\\times 10^{-2} $$"
   ]
  },
  {
   "cell_type": "code",
   "execution_count": 45,
   "metadata": {},
   "outputs": [],
   "source": [
    "import math"
   ]
  },
  {
   "cell_type": "markdown",
   "metadata": {},
   "source": [
    "## $\\alpha_{B1}$"
   ]
  },
  {
   "cell_type": "code",
   "execution_count": 46,
   "metadata": {},
   "outputs": [],
   "source": [
    "#Inputs\n",
    "a = 2.0\n",
    "alphaB = 1.0826e-2"
   ]
  },
  {
   "cell_type": "code",
   "execution_count": 47,
   "metadata": {},
   "outputs": [],
   "source": [
    "D = (alphaB**2 + 1)**2 - 4 * a**2 * alphaB**2\n",
    "bplus = ( (alphaB**2 + 1) + math.sqrt(D) )/(2 * a * alphaB**2)\n",
    "bminus =( (alphaB**2 + 1) - math.sqrt(D) )/(2 * a * alphaB**2)  "
   ]
  },
  {
   "cell_type": "code",
   "execution_count": 48,
   "metadata": {},
   "outputs": [
    {
     "name": "stdout",
     "output_type": "stream",
     "text": [
      "b+ = 4.264628e+03\n",
      "b- = 2.000704e+00\n"
     ]
    }
   ],
   "source": [
    "print(f\"b+ = {bplus:.6e}\")\n",
    "print(f\"b- = {bminus:.6e}\")\n"
   ]
  },
  {
   "cell_type": "code",
   "execution_count": 49,
   "metadata": {},
   "outputs": [
    {
     "name": "stdout",
     "output_type": "stream",
     "text": [
      "b+*alphaB = 4.6169e+01\n",
      "b-*alphaB = 2.1660e-02\n"
     ]
    }
   ],
   "source": [
    "print(f\"b+*alphaB = {bplus*alphaB:.4e}\")\n",
    "print(f\"b-*alphaB = {bminus*alphaB:.4e}\")"
   ]
  },
  {
   "cell_type": "markdown",
   "metadata": {},
   "source": [
    "## $\\alpha_{B2}$"
   ]
  },
  {
   "cell_type": "code",
   "execution_count": 50,
   "metadata": {},
   "outputs": [],
   "source": [
    "#Inputs\n",
    "a = 2.0\n",
    "alphaB = 2.0325e-2"
   ]
  },
  {
   "cell_type": "code",
   "execution_count": 51,
   "metadata": {},
   "outputs": [],
   "source": [
    "D = (alphaB**2 + 1)**2 - 4 * a**2 * alphaB**2\n",
    "bplus = ( (alphaB**2 + 1) + math.sqrt(D) )/(2 * a * alphaB**2)\n",
    "bminus =( (alphaB**2 + 1) - math.sqrt(D) )/(2 * a * alphaB**2)  "
   ]
  },
  {
   "cell_type": "code",
   "execution_count": 52,
   "metadata": {},
   "outputs": [
    {
     "name": "stdout",
     "output_type": "stream",
     "text": [
      "b+ = 1.208842e+03\n",
      "b- = 2.002486e+00\n"
     ]
    }
   ],
   "source": [
    "print(f\"b+ = {bplus:.6e}\")\n",
    "print(f\"b- = {bminus:.6e}\")\n"
   ]
  },
  {
   "cell_type": "code",
   "execution_count": 53,
   "metadata": {},
   "outputs": [
    {
     "name": "stdout",
     "output_type": "stream",
     "text": [
      "b+*alphaB = 2.4570e+01\n",
      "b-*alphaB = 4.0701e-02\n"
     ]
    }
   ],
   "source": [
    "print(f\"b+*alphaB = {bplus*alphaB:.4e}\")\n",
    "print(f\"b-*alphaB = {bminus*alphaB:.4e}\")"
   ]
  },
  {
   "cell_type": "markdown",
   "metadata": {},
   "source": [
    "## Similar parameters achieving $\\bar{\\mu} = 5.460 \\times 10^{4}$ $cm^2$/(V.s) and steady-state $J_d = 690.0$  $A m^{-2}$. \n",
    "\n",
    "|$B_{max}$ [G]  |$\\alpha_{B1}$              | $\\alpha_{B2}$                 |\n",
    "| -------       | ---------------------     | ----------------------        |\n",
    "|   50          | $5.1425\\times 10^{-3}$    | $1.0159\\times 10^{-2}$        |\n",
    "|   100         | $1.0826\\times 10^{-2}$    | $2.0325\\times 10^{-2}$        |\n",
    "|   150         | $1.6241\\times 10^{-2}$    | $3.0503\\times 10^{-2}$        |\n",
    "|   200         | $2.1660\\times 10^{-2}$    | $4.0701\\times 10^{-2}$        |"
   ]
  }
 ],
 "metadata": {
  "kernelspec": {
   "display_name": "HET-env",
   "language": "python",
   "name": "python3"
  },
  "language_info": {
   "codemirror_mode": {
    "name": "ipython",
    "version": 3
   },
   "file_extension": ".py",
   "mimetype": "text/x-python",
   "name": "python",
   "nbconvert_exporter": "python",
   "pygments_lexer": "ipython3",
   "version": "3.12.2"
  }
 },
 "nbformat": 4,
 "nbformat_minor": 2
}
